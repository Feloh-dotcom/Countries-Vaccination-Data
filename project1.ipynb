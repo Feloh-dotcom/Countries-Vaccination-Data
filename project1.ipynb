import pandas as pd
data = pd.read_csv(r"C:\Users\PC\Desktop\project data\Coountries Vaccination Data.csv")
data.shape
data.head()
data.tail()
data.isnull().sum()
data.describe()
data.duplicated().sum()
import seaborn as sns
import matplotlib.pyplot as plt

plt.scatter(data['total_vaccinations'], data['vaccine'])
plt.show()